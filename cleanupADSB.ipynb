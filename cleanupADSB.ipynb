{
 "cells": [
  {
   "cell_type": "code",
   "id": "initial_id",
   "metadata": {
    "collapsed": true,
    "ExecuteTime": {
     "end_time": "2025-09-05T13:08:54.494655Z",
     "start_time": "2025-09-05T13:08:54.435815Z"
    }
   },
   "source": [
    "import polars as pl\n",
    "\n",
    "input_file = \"merged_adsb_dataSMALL.csv\"\n",
    "output_file = \"adsb_cleanSMALL.csv\"\n",
    "\n",
    "required_cols = [\n",
    "    \"icao\", \"flight\", \"aircraft_type\", \"lat\", \"lon\", \"alt\",\n",
    "    \"ground_speed\", \"track\", \"adsb_type\", \"true_heading\",\n",
    "    \"squawk\", \"category\"\n",
    "]\n",
    "\n",
    "# Load CSV with overrides for problematic values\n",
    "df = pl.scan_csv(\n",
    "    input_file,\n",
    "    infer_schema_length=10000,\n",
    "    null_values=[\"\", \"null\", \"None\"],  # but NOT \"ground\", we’ll handle that manually\n",
    "    schema_overrides={\"alt\": pl.Utf8}  # altitude as string first\n",
    ")\n",
    "\n",
    "# Clean and convert\n",
    "df = (\n",
    "    df.drop_nulls(subset=required_cols)\n",
    "      .filter(pl.col(\"lat\").cast(pl.Float64).is_between(-90, 90))\n",
    "      .filter(pl.col(\"lon\").cast(pl.Float64).is_between(-180, 180))\n",
    "      .with_columns(\n",
    "          pl.when(pl.col(\"alt\") == \"ground\")\n",
    "            .then(pl.lit(0))\n",
    "            .otherwise(pl.col(\"alt\").cast(pl.Int64, strict=False))\n",
    "            .alias(\"alt\")\n",
    "      )\n",
    ")\n",
    "\n",
    "# Save cleaned dataset\n",
    "df.collect().write_csv(output_file)\n",
    "print(f\"✅ Cleaned dataset saved to {output_file} (altitude 'ground' → 0)\")\n"
   ],
   "outputs": [
    {
     "name": "stdout",
     "output_type": "stream",
     "text": [
      "✅ Cleaned dataset saved to adsb_cleanSMALL.csv (altitude 'ground' → 0)\n"
     ]
    }
   ],
   "execution_count": 4
  },
  {
   "metadata": {},
   "cell_type": "markdown",
   "source": [
    "### ✈️ ADS-B Data Parser & Cleaner\n",
    "\n",
    "This project extracts and processes **ADS-B aircraft surveillance data** from JSON trace logs into a structured database (CSV/Parquet).\n",
    "\n",
    "Each log file contains an aircraft’s flight trace, including positional and metadata records.\n",
    "The parser converts these traces into flat records with the following key fields:\n",
    "\n",
    "* **Aircraft Information**:\n",
    "\n",
    "  * `icao`: ICAO hex identifier\n",
    "  * `flight`: Flight callsign\n",
    "  * `aircraft_type`: ICAO aircraft type code (e.g., A320, B429)\n",
    "  * `desc`: Human-readable aircraft description\n",
    "\n",
    "* **Position & Movement**:\n",
    "\n",
    "  * `timestamp_offset`: Relative timestamp (seconds from dataset start)\n",
    "  * `lat`, `lon`: Geographic position\n",
    "  * `alt`: Altitude (ft, `\"ground\"` converted to `0`)\n",
    "  * `ground_speed`: Speed over ground (knots)\n",
    "  * `track`: Track/course (degrees)\n",
    "  * `geom_rate`: Climb/descent rate (ft/min)\n",
    "\n",
    "* **ADS-B Metadata**:\n",
    "\n",
    "  * `adsb_type`: Source message type (`adsb_icao`, etc.)\n",
    "  * `true_heading`, `mag_heading`: Heading information\n",
    "  * `squawk`: Transponder squawk code\n",
    "  * `emergency`: Emergency status\n",
    "  * `category`: Aircraft category\n",
    "\n",
    "* **Quality & Integrity Flags**:\n",
    "\n",
    "  * `nav_qnh`: Barometric pressure setting (hPa)\n",
    "  * `alert`, `spi`: Special purpose indicators\n",
    "  * `nic`, `rc`, `nac_p`, `nac_v`, `sil`, `sil_type`: Integrity/confidence metrics\n",
    "  * `gva`, `sda`: Geometric accuracy indicators\n",
    "\n",
    "The resulting dataset is suitable for:\n",
    "\n",
    "* **Flight data analysis** (traffic patterns, altitude profiles, squawk usage)\n",
    "* **Machine learning** (anomaly detection, spoofing research, classification)\n",
    "* **Visualization** (heatmaps, live tracking dashboards)"
   ],
   "id": "a61a8470cc6a3f7"
  },
  {
   "metadata": {
    "ExecuteTime": {
     "end_time": "2025-09-05T13:11:49.397369Z",
     "start_time": "2025-09-05T13:11:49.377709Z"
    }
   },
   "cell_type": "code",
   "source": [
    "import polars as pl\n",
    "\n",
    "# load cleaned CSV\n",
    "df = pl.read_csv(\"adsb_cleanSMALL.csv\")\n",
    "\n",
    "# show first rows\n",
    "print(df.head())\n",
    "\n",
    "# show schema\n",
    "print(df.schema)\n"
   ],
   "id": "bc59a4183e9a6746",
   "outputs": [
    {
     "name": "stdout",
     "output_type": "stream",
     "text": [
      "shape: (5, 28)\n",
      "┌────────┬────────┬───────────────┬──────────────┬───┬─────┬──────────┬─────┬─────┐\n",
      "│ icao   ┆ flight ┆ aircraft_type ┆ desc         ┆ … ┆ sil ┆ sil_type ┆ gva ┆ sda │\n",
      "│ ---    ┆ ---    ┆ ---           ┆ ---          ┆   ┆ --- ┆ ---      ┆ --- ┆ --- │\n",
      "│ str    ┆ str    ┆ str           ┆ str          ┆   ┆ f64 ┆ str      ┆ f64 ┆ f64 │\n",
      "╞════════╪════════╪═══════════════╪══════════════╪═══╪═════╪══════════╪═════╪═════╡\n",
      "│ ad5ff1 ┆ N961AV ┆ A320          ┆ AIRBUS A-320 ┆ … ┆ 3.0 ┆ perhour  ┆ 1.0 ┆ 2.0 │\n",
      "│ ad5ff1 ┆ N961AV ┆ A320          ┆ AIRBUS A-320 ┆ … ┆ 3.0 ┆ perhour  ┆ 1.0 ┆ 2.0 │\n",
      "│ ad5ff1 ┆ N961AV ┆ A320          ┆ AIRBUS A-320 ┆ … ┆ 3.0 ┆ perhour  ┆ 1.0 ┆ 2.0 │\n",
      "│ ad5ff1 ┆ N961AV ┆ A320          ┆ AIRBUS A-320 ┆ … ┆ 3.0 ┆ perhour  ┆ 1.0 ┆ 2.0 │\n",
      "│ ad5ff1 ┆ N961AV ┆ A320          ┆ AIRBUS A-320 ┆ … ┆ 3.0 ┆ perhour  ┆ 2.0 ┆ 2.0 │\n",
      "└────────┴────────┴───────────────┴──────────────┴───┴─────┴──────────┴─────┴─────┘\n",
      "Schema({'icao': String, 'flight': String, 'aircraft_type': String, 'desc': String, 'timestamp_offset': Float64, 'lat': Float64, 'lon': Float64, 'alt': Int64, 'ground_speed': Float64, 'track': Float64, 'geom_rate': Float64, 'adsb_type': String, 'true_heading': Float64, 'mag_heading': Float64, 'squawk': Int64, 'emergency': String, 'category': String, 'nav_qnh': Float64, 'alert': Float64, 'spi': Float64, 'nic': Int64, 'rc': Int64, 'nac_p': Float64, 'nac_v': Float64, 'sil': Float64, 'sil_type': String, 'gva': Float64, 'sda': Float64})\n"
     ]
    }
   ],
   "execution_count": 5
  },
  {
   "metadata": {},
   "cell_type": "markdown",
   "source": [
    "Great question 👍 — for **ADS-B spoofing detection**, you want to strip the data down to the **minimum features that carry security-relevant signal**, while avoiding redundant or easy-to-forge fields.\n",
    "\n",
    "Here’s a breakdown:\n",
    "\n",
    "---\n",
    "\n",
    "### ✅ Must-keep (core minimal features for spoofing detection)\n",
    "\n",
    "These are critical to detect inconsistencies, anomalies, or spoofed injections:\n",
    "\n",
    "* **icao** → spoofers often re-use or clone ICAO hex codes.\n",
    "* **lat, lon, alt** → positional anomalies are the heart of spoof detection.\n",
    "* **ground\\_speed, track** → kinematics; spoofed tracks often break physical motion laws.\n",
    "* **timestamp\\_offset** → temporal context, allows sequence/velocity validation.\n",
    "* **nic, nac\\_p, nac\\_v, sil, sil\\_type, rc** → integrity/confidence fields; spoofers may skip or mis-set these.\n",
    "\n",
    "---\n",
    "\n",
    "### ⚠️ Useful, but secondary\n",
    "\n",
    "Can improve robustness of your model, but not strictly minimal:\n",
    "\n",
    "* **squawk** → spoofers may use default or unusual codes (7700/0000/1200).\n",
    "* **category** → spoofers might mismatch aircraft type vs. observed kinematics.\n",
    "* **gva, sda** → additional accuracy flags, may show inconsistencies.\n",
    "\n",
    "---\n",
    "\n",
    "### ❌ Usually less useful for spoofing detection\n",
    "\n",
    "Because they can be easily forged or add noise:\n",
    "\n",
    "* **flight** (callsign) → trivial to spoof, not reliable.\n",
    "* **aircraft\\_type, desc** → metadata, not critical for spoof detection.\n",
    "* **true\\_heading, mag\\_heading** → often derived, redundant with track.\n",
    "* **nav\\_qnh** → useful for altitude cross-checks, but spoofers may leave nulls.\n",
    "* **alert, spi, emergency** → rare, but could be spoofed for DoS-style attacks.\n",
    "\n",
    "---\n",
    "\n",
    "### 🚀 Minimal ML-ready dataset suggestion:\n",
    "\n",
    "Keep only these columns:\n",
    "\n",
    "```text\n",
    "icao, timestamp_offset, lat, lon, alt, ground_speed, track,\n",
    "nic, nac_p, nac_v, sil, rc\n",
    "```\n",
    "\n",
    "That gives you:\n",
    "\n",
    "* **Identity** (icao)\n",
    "* **Spatiotemporal state** (lat, lon, alt, speed, track, time)\n",
    "* **Integrity/confidence metadata** (nic/nac/sil/rc)\n",
    "\n",
    "With just this, you can already train models to detect spoofing via:\n",
    "\n",
    "* Impossible motion (e.g., jumps, speed > Mach 2 for a Cessna)\n",
    "* Duplicate icao in two places at once\n",
    "* Integrity flags inconsistent with observed precision\n",
    "\n",
    "---\n",
    "\n",
    "👉 Do you want me to sketch a **Polars snippet** that takes your full cleaned CSV and outputs a slimmed-down “spoofing dataset” with only these features?\n"
   ],
   "id": "c6ab476e64bdb59a"
  },
  {
   "metadata": {},
   "cell_type": "code",
   "outputs": [],
   "execution_count": null,
   "source": "try:",
   "id": "fa125b73869072fe"
  }
 ],
 "metadata": {
  "kernelspec": {
   "display_name": "Python 3",
   "language": "python",
   "name": "python3"
  },
  "language_info": {
   "codemirror_mode": {
    "name": "ipython",
    "version": 2
   },
   "file_extension": ".py",
   "mimetype": "text/x-python",
   "name": "python",
   "nbconvert_exporter": "python",
   "pygments_lexer": "ipython2",
   "version": "2.7.6"
  }
 },
 "nbformat": 4,
 "nbformat_minor": 5
}
